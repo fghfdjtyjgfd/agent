{
 "cells": [
  {
   "cell_type": "code",
   "execution_count": 3,
   "metadata": {},
   "outputs": [],
   "source": [
    "import pandas as pd"
   ]
  },
  {
   "cell_type": "markdown",
   "metadata": {},
   "source": [
    "## Load agent names"
   ]
  },
  {
   "cell_type": "code",
   "execution_count": 274,
   "metadata": {},
   "outputs": [
    {
     "data": {
      "text/html": [
       "<div>\n",
       "<style scoped>\n",
       "    .dataframe tbody tr th:only-of-type {\n",
       "        vertical-align: middle;\n",
       "    }\n",
       "\n",
       "    .dataframe tbody tr th {\n",
       "        vertical-align: top;\n",
       "    }\n",
       "\n",
       "    .dataframe thead th {\n",
       "        text-align: right;\n",
       "    }\n",
       "</style>\n",
       "<table border=\"1\" class=\"dataframe\">\n",
       "  <thead>\n",
       "    <tr style=\"text-align: right;\">\n",
       "      <th></th>\n",
       "      <th>prefix_name</th>\n",
       "      <th>agent name</th>\n",
       "      <th>owner_pharses</th>\n",
       "      <th>agent_pharses</th>\n",
       "    </tr>\n",
       "  </thead>\n",
       "  <tbody>\n",
       "    <tr>\n",
       "      <th>0</th>\n",
       "      <td>property</td>\n",
       "      <td>Nut Ananganjanagit</td>\n",
       "      <td>เจ้าของขายเอง</td>\n",
       "      <td>co-agent</td>\n",
       "    </tr>\n",
       "    <tr>\n",
       "      <th>1</th>\n",
       "      <td>asset</td>\n",
       "      <td>eakapong_r</td>\n",
       "      <td>owner post</td>\n",
       "      <td>co agent</td>\n",
       "    </tr>\n",
       "    <tr>\n",
       "      <th>2</th>\n",
       "      <td>condo</td>\n",
       "      <td>Pluto_Landmarks</td>\n",
       "      <td>welcome agent</td>\n",
       "      <td>co-agent welcome</td>\n",
       "    </tr>\n",
       "    <tr>\n",
       "      <th>3</th>\n",
       "      <td>estate</td>\n",
       "      <td>MaxTierRealty</td>\n",
       "      <td>agent welcome</td>\n",
       "      <td>co agent welcome</td>\n",
       "    </tr>\n",
       "    <tr>\n",
       "      <th>4</th>\n",
       "      <td>prop</td>\n",
       "      <td>suwit</td>\n",
       "      <td>รับ agent</td>\n",
       "      <td>welcome co agent</td>\n",
       "    </tr>\n",
       "  </tbody>\n",
       "</table>\n",
       "</div>"
      ],
      "text/plain": [
       "  prefix_name          agent name  owner_pharses     agent_pharses\n",
       "0    property  Nut Ananganjanagit  เจ้าของขายเอง          co-agent\n",
       "1       asset          eakapong_r     owner post          co agent\n",
       "2       condo     Pluto_Landmarks  welcome agent  co-agent welcome\n",
       "3      estate       MaxTierRealty  agent welcome  co agent welcome\n",
       "4        prop               suwit      รับ agent  welcome co agent"
      ]
     },
     "execution_count": 274,
     "metadata": {},
     "output_type": "execute_result"
    }
   ],
   "source": [
    "# How to read_csv from google sheet https://medium.com/@Bwhiz/step-by-step-guide-importing-google-sheets-data-into-pandas-ae2df899257f\n",
    "sheet_name = 'Agent' # replace with your own sheet name\n",
    "sheet_id = '1QXAKFfXR8oBMXL_mVJx3SkqEpN0qIRG5davdcwCq1-0' # replace with your sheet's ID\n",
    "url = f\"https://docs.google.com/spreadsheets/d/{sheet_id}/gviz/tq?tqx=out:csv&sheet={sheet_name}\"\n",
    "\n",
    "agent_list = pd.read_csv(url)\n",
    "\n",
    "agent_name_list = agent_list['agent name'].dropna().str.lower().tolist()\n",
    "prefix_name = agent_list['prefix_name'].dropna().str.lower().tolist()\n",
    "owner_pharses = agent_list['owner_pharses'].dropna().str.lower().tolist()\n",
    "agent_pharses = agent_list['agent_pharses'].dropna().str.lower().tolist()\n",
    "\n",
    "agent_list.head()"
   ]
  },
  {
   "cell_type": "code",
   "execution_count": 275,
   "metadata": {},
   "outputs": [
    {
     "name": "stdout",
     "output_type": "stream",
     "text": [
      "162\n",
      "32\n",
      "9\n",
      "17\n"
     ]
    }
   ],
   "source": [
    "print(len(agent_name_list))\n",
    "print(len(prefix_name))\n",
    "print(len(owner_pharses))\n",
    "print(len(agent_pharses))"
   ]
  },
  {
   "cell_type": "markdown",
   "metadata": {},
   "source": [
    "## Load facebook_posts.csv"
   ]
  },
  {
   "cell_type": "code",
   "execution_count": 276,
   "metadata": {},
   "outputs": [
    {
     "data": {
      "text/html": [
       "<div>\n",
       "<style scoped>\n",
       "    .dataframe tbody tr th:only-of-type {\n",
       "        vertical-align: middle;\n",
       "    }\n",
       "\n",
       "    .dataframe tbody tr th {\n",
       "        vertical-align: top;\n",
       "    }\n",
       "\n",
       "    .dataframe thead th {\n",
       "        text-align: right;\n",
       "    }\n",
       "</style>\n",
       "<table border=\"1\" class=\"dataframe\">\n",
       "  <thead>\n",
       "    <tr style=\"text-align: right;\">\n",
       "      <th></th>\n",
       "      <th>author</th>\n",
       "      <th>content</th>\n",
       "      <th>post_link</th>\n",
       "      <th>post_id</th>\n",
       "    </tr>\n",
       "  </thead>\n",
       "  <tbody>\n",
       "    <tr>\n",
       "      <th>0</th>\n",
       "      <td>JJang Thum</td>\n",
       "      <td>ให้เช่าคอนโด The Keyพหลโยธิน34   \\nห้องกว้าง\\n...</td>\n",
       "      <td>https://www.facebook.com/groups/13961451675220...</td>\n",
       "      <td>«r2» «r3» «r4» «r6» «r5»</td>\n",
       "    </tr>\n",
       "    <tr>\n",
       "      <th>1</th>\n",
       "      <td>JJang Thum</td>\n",
       "      <td>ให้เช่าคอนโด Rich park terminal พหลโยธิน59\\n ต...</td>\n",
       "      <td>https://www.facebook.com/groups/13961451675220...</td>\n",
       "      <td>«rs» «rt» «ru» «r10» «rv»</td>\n",
       "    </tr>\n",
       "    <tr>\n",
       "      <th>2</th>\n",
       "      <td>ฟาดี้ โซนารี่</td>\n",
       "      <td>หาคอนใกล้ ม.ศรีปทุมค่ะ  เดือนละ8-9000</td>\n",
       "      <td>https://www.facebook.com/groups/13961451675220...</td>\n",
       "      <td>«r1i» «r1j» «r1k» «r1m» «r1l»</td>\n",
       "    </tr>\n",
       "    <tr>\n",
       "      <th>3</th>\n",
       "      <td>JJang Thum</td>\n",
       "      <td>ให้เช่าโครงการ วันเดอร์ เกษตร Oneder Kaset \\n ...</td>\n",
       "      <td>https://www.facebook.com/groups/13961451675220...</td>\n",
       "      <td>«r2d» «r2e» «r2f» «r2h» «r2g»</td>\n",
       "    </tr>\n",
       "    <tr>\n",
       "      <th>4</th>\n",
       "      <td>Pappassara Ki</td>\n",
       "      <td>หาหอพักใกล้มอศรีปทุมค่ะ ราคา 3000-5000 ค่ะ ใกล...</td>\n",
       "      <td>https://www.facebook.com/groups/13961451675220...</td>\n",
       "      <td>«r34» «r35» «r36» «r38» «r37»</td>\n",
       "    </tr>\n",
       "  </tbody>\n",
       "</table>\n",
       "</div>"
      ],
      "text/plain": [
       "          author                                            content  \\\n",
       "0     JJang Thum  ให้เช่าคอนโด The Keyพหลโยธิน34   \\nห้องกว้าง\\n...   \n",
       "1     JJang Thum  ให้เช่าคอนโด Rich park terminal พหลโยธิน59\\n ต...   \n",
       "2  ฟาดี้ โซนารี่              หาคอนใกล้ ม.ศรีปทุมค่ะ  เดือนละ8-9000   \n",
       "3     JJang Thum  ให้เช่าโครงการ วันเดอร์ เกษตร Oneder Kaset \\n ...   \n",
       "4  Pappassara Ki  หาหอพักใกล้มอศรีปทุมค่ะ ราคา 3000-5000 ค่ะ ใกล...   \n",
       "\n",
       "                                           post_link  \\\n",
       "0  https://www.facebook.com/groups/13961451675220...   \n",
       "1  https://www.facebook.com/groups/13961451675220...   \n",
       "2  https://www.facebook.com/groups/13961451675220...   \n",
       "3  https://www.facebook.com/groups/13961451675220...   \n",
       "4  https://www.facebook.com/groups/13961451675220...   \n",
       "\n",
       "                         post_id  \n",
       "0       «r2» «r3» «r4» «r6» «r5»  \n",
       "1      «rs» «rt» «ru» «r10» «rv»  \n",
       "2  «r1i» «r1j» «r1k» «r1m» «r1l»  \n",
       "3  «r2d» «r2e» «r2f» «r2h» «r2g»  \n",
       "4  «r34» «r35» «r36» «r38» «r37»  "
      ]
     },
     "execution_count": 276,
     "metadata": {},
     "output_type": "execute_result"
    }
   ],
   "source": [
    "fb_posts = pd.read_csv(\"./csv_files/facebook/facebook_posts.csv\")\n",
    "fb_posts = fb_posts.drop('Unnamed: 0', axis=1)\n",
    "fb_posts.head()"
   ]
  },
  {
   "cell_type": "markdown",
   "metadata": {},
   "source": [
    "### Check null values"
   ]
  },
  {
   "cell_type": "code",
   "execution_count": null,
   "metadata": {},
   "outputs": [],
   "source": [
    "def check_link_null(df: pd.DataFrame) -> pd.DataFrame:\n",
    "    number_of_data_before_drop = len(df)\n",
    "    number_null_before_drop = df['post_link'].isna().sum()\n",
    "\n",
    "    print(f\"There are {number_null_before_drop} null values of {number_of_data_before_drop} data\")\n",
    "    df = df.dropna(subset=['post_link'])\n",
    "    number_after_drop = len(df)\n",
    "\n",
    "    print(\"============== After drop null values ===============\")\n",
    "    print(f\"there are remain {number_after_drop} data\")\n",
    "    \n",
    "    return df"
   ]
  },
  {
   "cell_type": "code",
   "execution_count": 278,
   "metadata": {},
   "outputs": [
    {
     "name": "stdout",
     "output_type": "stream",
     "text": [
      "There are 3 null values of 50 data\n",
      "============== After drop null values ===============\n",
      "there are remain 47 data\n"
     ]
    }
   ],
   "source": [
    "fb_posts = check_link_null(fb_posts)"
   ]
  },
  {
   "cell_type": "markdown",
   "metadata": {},
   "source": [
    "## Check length and split to 2 DataFrames"
   ]
  },
  {
   "cell_type": "code",
   "execution_count": 279,
   "metadata": {},
   "outputs": [],
   "source": [
    "import matplotlib.pyplot as plt"
   ]
  },
  {
   "cell_type": "code",
   "execution_count": 280,
   "metadata": {},
   "outputs": [],
   "source": [
    "def seeker_renter_split(df: pd.DataFrame) -> pd.DataFrame:\n",
    "    seeker_df = df[df['content'].str.len() <= 150]\n",
    "    renter_df = df[df['content'].str.len() > 150]\n",
    "    null_df = df[df['content'].isnull() == True]\n",
    "\n",
    "    seeker_df = pd.concat([seeker_df, null_df])\n",
    "\n",
    "    print(f\"Seeker has {len(seeker_df)} data out of {len(df)} in total\")\n",
    "    print(f\"Renter has {len(renter_df)} data out of {len(df)} in total\")\n",
    "\n",
    "    return seeker_df, renter_df"
   ]
  },
  {
   "cell_type": "code",
   "execution_count": 281,
   "metadata": {},
   "outputs": [
    {
     "name": "stdout",
     "output_type": "stream",
     "text": [
      "Seeker has 14 data out of 47 in total\n",
      "Renter has 33 data out of 47 in total\n"
     ]
    }
   ],
   "source": [
    "room_seeker_df, room_renter_df = seeker_renter_split(fb_posts)"
   ]
  },
  {
   "cell_type": "code",
   "execution_count": 283,
   "metadata": {},
   "outputs": [
    {
     "data": {
      "text/plain": [
       "[Text(0, 0, '14'), Text(0, 0, '33')]"
      ]
     },
     "execution_count": 283,
     "metadata": {},
     "output_type": "execute_result"
    },
    {
     "data": {
      "image/png": "[encoded data removed]",
      "text/plain": [
       "<Figure size 640x480 with 1 Axes>"
      ]
     },
     "metadata": {},
     "output_type": "display_data"
    }
   ],
   "source": [
    "number_of_seeker = len(room_seeker_df)\n",
    "number_of_renter = len(room_renter_df)\n",
    "\n",
    "number_of_posts = plt.bar(x=[\"seeker\", \"renter\"], height=[number_of_seeker, number_of_renter], width=0.5)\n",
    "plt.bar_label(number_of_posts, labels=[number_of_seeker, number_of_renter])"
   ]
  },
  {
   "cell_type": "markdown",
   "metadata": {},
   "source": [
    "## Check content if its belong to agent or owner"
   ]
  },
  {
   "cell_type": "code",
   "execution_count": 284,
   "metadata": {},
   "outputs": [],
   "source": [
    "def check_content(content):\n",
    "    content = content.replace(\"-\", \" \").lower()\n",
    "    if 'co agent welcome' in content:\n",
    "        return \"agent\"\n",
    "    if any(keyword in content for keyword in owner_pharses):\n",
    "        return \"owner\"\n",
    "    if any(keyword in content for keyword in agent_pharses):\n",
    "        return \"agent\"\n",
    "    return \"not sure\"\n",
    "\n",
    "def add_status(df: pd.DataFrame) -> pd.DataFrame:\n",
    "    df = df.copy()\n",
    "    df['status'] = df['content'].apply(check_content)\n",
    "    return df"
   ]
  },
  {
   "cell_type": "code",
   "execution_count": 285,
   "metadata": {},
   "outputs": [],
   "source": [
    "room_renter_df = add_status(room_renter_df)"
   ]
  },
  {
   "cell_type": "code",
   "execution_count": 286,
   "metadata": {},
   "outputs": [],
   "source": [
    "# Export new agent names list to csv\n",
    "agent_author = room_renter_df[room_renter_df['status'] == 'agent']['author'].value_counts()\n",
    "pd.Series(agent_author).to_csv(\".//csv_files/facebook/agent_names_from_renter.csv\")\n",
    "\n",
    "# Export 2 tables to csv\n",
    "room_renter_df.to_csv(\".//csv_files/facebook/room_renter.csv\")\n",
    "room_seeker_df.to_csv(\".//csv_files/facebook/room_seeker.csv\")"
   ]
  }
 ],
 "metadata": {
  "kernelspec": {
   "display_name": "Python 3",
   "language": "python",
   "name": "python3"
  },
  "language_info": {
   "codemirror_mode": {
    "name": "ipython",
    "version": 3
   },
   "file_extension": ".py",
   "mimetype": "text/x-python",
   "name": "python",
   "nbconvert_exporter": "python",
   "pygments_lexer": "ipython3",
   "version": "3.11.11"
  }
 },
 "nbformat": 4,
 "nbformat_minor": 2
}
